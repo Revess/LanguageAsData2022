{
 "cells": [
  {
   "cell_type": "markdown",
   "metadata": {},
   "source": [
    "Copyright: Vrije Universiteit Amsterdam, Faculty of Humanities, CLTL"
   ]
  },
  {
   "cell_type": "markdown",
   "metadata": {},
   "source": [
    "# Lab 2.1: Data Processing"
   ]
  },
  {
   "cell_type": "markdown",
   "metadata": {},
   "source": [
    "In the previous lab, we stored our results as CSV, TSV, and JSON files. In this lab, we learn how to process the results with the *pandas* library. We see examples about accessing and filtering values and discuss the role of missing values for the dataset statistics. Pandas is an extremely useful library, but it can sometimes be difficult to achieve what you want.\n",
    "\n",
    "**You should always plan in more time than you anticipate for transforming your data into the right format!** "
   ]
  },
  {
   "cell_type": "markdown",
   "metadata": {},
   "source": [
    "## 1. Read data"
   ]
  },
  {
   "cell_type": "markdown",
   "metadata": {},
   "source": [
    "Pandas presents the content as a data frame (often abbreviated df). By default, the rows and columns are numbered with an index (starting at 0), but it is also possible to provide names for them. In our case, the header provides names for the columns. \n",
    "\n",
    "We read in the two example datasets. **Examine the structure of the data frame.**"
   ]
  },
  {
   "cell_type": "code",
   "execution_count": 5,
   "metadata": {},
   "outputs": [
    {
     "name": "stdout",
     "output_type": "stream",
     "text": [
      "                 created_at                   id               id_str  \\\n",
      "0 2020-09-09 07:00:38+00:00  1303589112251731968  1303589112251731968   \n",
      "1 2020-09-08 21:49:25+00:00  1303450394346041344  1303450394346041344   \n",
      "2 2020-09-08 21:29:50+00:00  1303445466064007169  1303445466064007168   \n",
      "3 2020-09-08 18:05:34+00:00  1303394059508015104  1303394059508015104   \n",
      "4 2020-09-08 18:04:44+00:00  1303393850204008449  1303393850204008448   \n",
      "\n",
      "                                           full_text  truncated  \\\n",
      "0  @RedbirdEl Tried watermelon burgers yesterday....      False   \n",
      "1  Jonathan and I have launched the Void Wave pod...      False   \n",
      "2  Yes! These #highlyconsciousbeings belong in th...      False   \n",
      "3  Some times it's nice to take a break from soci...      False   \n",
      "4  Stop animal cruelty!\\nStop specisizm!\\n\\nStop ...      False   \n",
      "\n",
      "  display_text_range                                           entities  \\\n",
      "0          [11, 258]  {'hashtags': [{'text': 'LaborDay', 'indices': ...   \n",
      "1           [0, 279]  {'hashtags': [{'text': 'leftwing', 'indices': ...   \n",
      "2           [0, 240]  {'hashtags': [{'text': 'highlyconsciousbeings'...   \n",
      "3           [0, 279]  {'hashtags': [{'text': 'happiness', 'indices':...   \n",
      "4           [0, 150]  {'hashtags': [{'text': 'veganOl', 'indices': [...   \n",
      "\n",
      "                                            metadata  \\\n",
      "0  {'iso_language_code': 'en', 'result_type': 're...   \n",
      "1  {'iso_language_code': 'en', 'result_type': 're...   \n",
      "2  {'iso_language_code': 'en', 'result_type': 're...   \n",
      "3  {'iso_language_code': 'en', 'result_type': 're...   \n",
      "4  {'iso_language_code': 'en', 'result_type': 're...   \n",
      "\n",
      "                                              source  in_reply_to_status_id  \\\n",
      "0  <a href=\"https://mobile.twitter.com\" rel=\"nofo...           1.303587e+18   \n",
      "1  <a href=\"https://mobile.twitter.com\" rel=\"nofo...                    NaN   \n",
      "2  <a href=\"http://instagram.com\" rel=\"nofollow\">...                    NaN   \n",
      "3  <a href=\"https://www.later.com\" rel=\"nofollow\"...                    NaN   \n",
      "4  <a href=\"http://twitter.com/download/iphone\" r...                    NaN   \n",
      "\n",
      "   ...  retweet_count  favorite_count  favorited retweeted lang  \\\n",
      "0  ...              0               1      False     False   en   \n",
      "1  ...              1               2      False     False   en   \n",
      "2  ...              0               0      False     False   en   \n",
      "3  ...              0               0      False     False   en   \n",
      "4  ...              0               2      False     False   en   \n",
      "\n",
      "   possibly_sensitive                                  extended_entities  \\\n",
      "0                 NaN                                                NaN   \n",
      "1                 0.0                                                NaN   \n",
      "2                 0.0                                                NaN   \n",
      "3                 0.0  {'media': [{'id': 1303393924191588352, 'id_str...   \n",
      "4                 0.0  {'media': [{'id': 1303393846039121921, 'id_str...   \n",
      "\n",
      "   quoted_status_id  quoted_status_id_str  quoted_status  \n",
      "0               NaN                   NaN            NaN  \n",
      "1               NaN                   NaN            NaN  \n",
      "2               NaN                   NaN            NaN  \n",
      "3               NaN                   NaN            NaN  \n",
      "4               NaN                   NaN            NaN  \n",
      "\n",
      "[5 rows x 30 columns]\n"
     ]
    }
   ],
   "source": [
    "import pandas as pd\n",
    "import stanza \n",
    "\n",
    "tsv_file = \"../data/veganism_overview_en.tsv\"\n",
    "news_content = pd.read_csv(tsv_file, sep=\"\\t\", header = 0)\n",
    "# The separator (sep) is a tabulator, and the first line should be interpreted as the header\n",
    "news_content = pd.read_csv(tsv_file, sep=\"\\t\", header = 0)\n",
    "\n",
    "# Read in JSON \n",
    "json_file = \"../data/twitter_results_veganism.json\"\n",
    "twitter_content = pd.read_json(json_file)\n",
    "\n",
    "# Take a look at the data\n",
    "#print(news_content[:5])\n",
    "print(twitter_content[:5])"
   ]
  },
  {
   "cell_type": "code",
   "execution_count": 6,
   "metadata": {},
   "outputs": [
    {
     "name": "stdout",
     "output_type": "stream",
     "text": [
      "  Publication Date       Time           Publisher  \\\n",
      "0       2020-09-15  18:20:00Z  newsindiatimes.com   \n",
      "1       2020-09-15  10:02:50Z             VegNews   \n",
      "2       2020-09-10  20:17:56Z            BBC News   \n",
      "3       2020-09-15  13:08:32Z          Healthline   \n",
      "4       2020-09-04  07:00:00Z       Green Matters   \n",
      "\n",
      "                             Author  \\\n",
      "0                          Ela Dutt   \n",
      "1                               NaN   \n",
      "2  https://www.facebook.com/bbcnews   \n",
      "3            Lauren Panoff, MPH, RD   \n",
      "4                            sophie   \n",
      "\n",
      "                                               Title  \\\n",
      "0                    Veganism: From fad to lifestyle   \n",
      "1  Interest in Veganism Hits All-Time High in 202...   \n",
      "2    Why black Americans are more likely to be vegan   \n",
      "3                                  Is Beeswax Vegan?   \n",
      "4  Opinion: Miley Cyrus Says She's No Longer Vega...   \n",
      "\n",
      "                                                 URL  \\\n",
      "0  https://www.newsindiatimes.com/veganism-from-f...   \n",
      "1  https://vegnews.com/2020/9/interest-in-veganis...   \n",
      "2  https://www.bbc.com/news/world-us-canada-53787329   \n",
      "3  https://www.healthline.com/nutrition/is-beeswa...   \n",
      "4  https://www.greenmatters.com/p/miley-cyrus-no-...   \n",
      "\n",
      "                                                Text  \n",
      "0  Thirty years ago, a few Indian-Americans got t...  \n",
      "1   September 15, 2020 Interest in veganism has h...  \n",
      "2  Black Americans are almost three times as like...  \n",
      "3  A vegan diet is defined as a way of eating tha...  \n",
      "4  Miley Cyrus just announced that she is no long...  \n"
     ]
    }
   ],
   "source": [
    "print(news_content[0:5])"
   ]
  },
  {
   "cell_type": "code",
   "execution_count": 7,
   "metadata": {},
   "outputs": [
    {
     "data": {
      "text/plain": [
       "336"
      ]
     },
     "execution_count": 7,
     "metadata": {},
     "output_type": "execute_result"
    }
   ],
   "source": [
    "news_content.size"
   ]
  },
  {
   "cell_type": "code",
   "execution_count": 8,
   "metadata": {},
   "outputs": [
    {
     "data": {
      "text/plain": [
       "(48, 7)"
      ]
     },
     "execution_count": 8,
     "metadata": {},
     "output_type": "execute_result"
    }
   ],
   "source": [
    "news_content.shape"
   ]
  },
  {
   "cell_type": "markdown",
   "metadata": {},
   "source": [
    "**What do size and shape indicate?**"
   ]
  },
  {
   "cell_type": "markdown",
   "metadata": {},
   "source": [
    "## 2. Accessing values "
   ]
  },
  {
   "cell_type": "markdown",
   "metadata": {},
   "source": [
    "We often only want to perform operations on a subset of the data without deleting the rest. We can access the data using the index (with *iloc*) or the names (with *loc*). If you leave out the indicator for the column, the whole row is displayed. If you want to show all rows, use the : symbol. This is generally used to indicate the full range of a list. \n",
    "\n",
    "We only provide a few examples, but **it is important to practice different ways to access the data that you are interested in.**"
   ]
  },
  {
   "cell_type": "code",
   "execution_count": 9,
   "metadata": {},
   "outputs": [
    {
     "data": {
      "text/plain": [
       "'IrishCentral'"
      ]
     },
     "execution_count": 9,
     "metadata": {},
     "output_type": "execute_result"
    }
   ],
   "source": [
    "# Get row 5, column 2\n",
    "news_content.iloc[5,2]\n",
    "\n",
    "# If you add additional brackets, the output looks nicer:\n",
    "# news_content.iloc[[5],[2]]"
   ]
  },
  {
   "cell_type": "code",
   "execution_count": 10,
   "metadata": {},
   "outputs": [
    {
     "data": {
      "text/plain": [
       "'Ireland ranked among top ten countries globally for veganism'"
      ]
     },
     "execution_count": 10,
     "metadata": {},
     "output_type": "execute_result"
    }
   ],
   "source": [
    "# Get the column \"Title\" from row 5 \n",
    "news_content.loc[5,\"Title\"]"
   ]
  },
  {
   "cell_type": "code",
   "execution_count": 11,
   "metadata": {},
   "outputs": [
    {
     "data": {
      "text/html": [
       "<div>\n",
       "<style scoped>\n",
       "    .dataframe tbody tr th:only-of-type {\n",
       "        vertical-align: middle;\n",
       "    }\n",
       "\n",
       "    .dataframe tbody tr th {\n",
       "        vertical-align: top;\n",
       "    }\n",
       "\n",
       "    .dataframe thead th {\n",
       "        text-align: right;\n",
       "    }\n",
       "</style>\n",
       "<table border=\"1\" class=\"dataframe\">\n",
       "  <thead>\n",
       "    <tr style=\"text-align: right;\">\n",
       "      <th></th>\n",
       "      <th>Publication Date</th>\n",
       "      <th>Time</th>\n",
       "      <th>Publisher</th>\n",
       "      <th>Author</th>\n",
       "      <th>Title</th>\n",
       "      <th>URL</th>\n",
       "      <th>Text</th>\n",
       "    </tr>\n",
       "  </thead>\n",
       "  <tbody>\n",
       "    <tr>\n",
       "      <th>3</th>\n",
       "      <td>2020-09-15</td>\n",
       "      <td>13:08:32Z</td>\n",
       "      <td>Healthline</td>\n",
       "      <td>Lauren Panoff, MPH, RD</td>\n",
       "      <td>Is Beeswax Vegan?</td>\n",
       "      <td>https://www.healthline.com/nutrition/is-beeswa...</td>\n",
       "      <td>A vegan diet is defined as a way of eating tha...</td>\n",
       "    </tr>\n",
       "  </tbody>\n",
       "</table>\n",
       "</div>"
      ],
      "text/plain": [
       "  Publication Date       Time   Publisher                  Author  \\\n",
       "3       2020-09-15  13:08:32Z  Healthline  Lauren Panoff, MPH, RD   \n",
       "\n",
       "               Title                                                URL  \\\n",
       "3  Is Beeswax Vegan?  https://www.healthline.com/nutrition/is-beeswa...   \n",
       "\n",
       "                                                Text  \n",
       "3  A vegan diet is defined as a way of eating tha...  "
      ]
     },
     "execution_count": 11,
     "metadata": {},
     "output_type": "execute_result"
    }
   ],
   "source": [
    "# Get row 3 \n",
    "# news_content.loc[3]\n",
    "\n",
    "# Nicer formatting\n",
    "news_content.iloc[[3]]"
   ]
  },
  {
   "cell_type": "code",
   "execution_count": 12,
   "metadata": {},
   "outputs": [
    {
     "data": {
      "text/plain": [
       "0           newsindiatimes.com\n",
       "1                      VegNews\n",
       "2                     BBC News\n",
       "3                   Healthline\n",
       "4                Green Matters\n",
       "5                 IrishCentral\n",
       "6           BBC Focus Magazine\n",
       "7                Deccan Herald\n",
       "8            Green Queen Media\n",
       "9                     Euronews\n",
       "10             Cherwell Online\n",
       "11            Plant Based News\n",
       "12         Daily Trojan Online\n",
       "13           Green Queen Media\n",
       "14          New Zealand Herald\n",
       "15            USA Today 10Best\n",
       "16                    The Beet\n",
       "17            Plant Based News\n",
       "18            Plant Based News\n",
       "19          The Jerusalem Post\n",
       "20                  Civil Eats\n",
       "21               Las Vegas Sun\n",
       "22                    Euronews\n",
       "23        Eco Warrior Princess\n",
       "24                  Grit Daily\n",
       "25            Plant Based News\n",
       "26                    The Beet\n",
       "27          Totally Vegan Buzz\n",
       "28               Yahoo Finance\n",
       "29               The New Daily\n",
       "30            Plant Based News\n",
       "31              Times of India\n",
       "32    South China Morning Post\n",
       "33                         Mic\n",
       "34          The Jerusalem Post\n",
       "35               Green Matters\n",
       "36                  Healthline\n",
       "37                     Mid-day\n",
       "38               Eater Chicago\n",
       "39                    The Beet\n",
       "40         Chestnut Hill Local\n",
       "41          Soapbox Cincinnati\n",
       "42          The Canberra Times\n",
       "43            Oakland News Now\n",
       "44         The Washington Post\n",
       "45            Las Vegas Weekly\n",
       "46                Yahoo Sports\n",
       "47                  Healthline\n",
       "Name: Publisher, dtype: object"
      ]
     },
     "execution_count": 12,
     "metadata": {},
     "output_type": "execute_result"
    }
   ],
   "source": [
    "# Get the 2nd column from all rows \n",
    "news_content.iloc[:,2]"
   ]
  },
  {
   "cell_type": "markdown",
   "metadata": {},
   "source": [
    "## 3. Accessing columns"
   ]
  },
  {
   "cell_type": "markdown",
   "metadata": {},
   "source": [
    "We often want to access the columns of a data frame. We can do that by using the name of the column. \n",
    "\n",
    "Sometimes, we just want to work with a subset of the dataset. We can indicate which columns to keep in a list. "
   ]
  },
  {
   "cell_type": "code",
   "execution_count": 13,
   "metadata": {},
   "outputs": [
    {
     "name": "stdout",
     "output_type": "stream",
     "text": [
      "            Publisher                            Author  \\\n",
      "0  newsindiatimes.com                          Ela Dutt   \n",
      "1             VegNews                               NaN   \n",
      "2            BBC News  https://www.facebook.com/bbcnews   \n",
      "\n",
      "                                               Title  \n",
      "0                    Veganism: From fad to lifestyle  \n",
      "1  Interest in Veganism Hits All-Time High in 202...  \n",
      "2    Why black Americans are more likely to be vegan  \n"
     ]
    }
   ],
   "source": [
    "# Different ways of accessing columns\n",
    "# news_content[\"Title\"]\n",
    "# news_content[\"Title\"][3:8]\n",
    "\n",
    "content_subset = news_content[[\"Publisher\",\"Author\",\"Title\"]]\n",
    "print(content_subset[0:3])"
   ]
  },
  {
   "cell_type": "markdown",
   "metadata": {},
   "source": [
    "## 4. Filtering"
   ]
  },
  {
   "cell_type": "markdown",
   "metadata": {},
   "source": [
    "A very powerful tool is the option to filter a pandas dataframe using boolean values. \n",
    "\n",
    "**Make sure you understand the difference between step 1 and 2 by trying different conditions and outputting the results.** "
   ]
  },
  {
   "cell_type": "code",
   "execution_count": 14,
   "metadata": {},
   "outputs": [],
   "source": [
    "# Filter by Date\n",
    "# 1. This statement returns a data frame with boolean values indicating whether the row fulfills the condition\n",
    "is_september15 = news_content[\"Publication Date\"] == \"2020-09-15\"\n",
    "\n",
    "# 2. We can filter our data frame with the boolean data frame. \n",
    "september15_extract = news_content[news_content[\"Publication Date\"] == \"2020-09-15\"]\n",
    "#print(september15_extract)"
   ]
  },
  {
   "cell_type": "markdown",
   "metadata": {},
   "source": [
    "We provide examples for conditioning on substrings or numbers. **Try out other filters.**\n",
    "\n",
    "You can create complex filters by combining different conditions. Keep in mind that your code should be readable (also for yourself!). Sometimes it is clearer if you apply simple filters in two steps than combining them into one complex step.   "
   ]
  },
  {
   "cell_type": "code",
   "execution_count": 15,
   "metadata": {},
   "outputs": [
    {
     "data": {
      "text/html": [
       "<div>\n",
       "<style scoped>\n",
       "    .dataframe tbody tr th:only-of-type {\n",
       "        vertical-align: middle;\n",
       "    }\n",
       "\n",
       "    .dataframe tbody tr th {\n",
       "        vertical-align: top;\n",
       "    }\n",
       "\n",
       "    .dataframe thead th {\n",
       "        text-align: right;\n",
       "    }\n",
       "</style>\n",
       "<table border=\"1\" class=\"dataframe\">\n",
       "  <thead>\n",
       "    <tr style=\"text-align: right;\">\n",
       "      <th></th>\n",
       "      <th>Publication Date</th>\n",
       "      <th>Time</th>\n",
       "      <th>Publisher</th>\n",
       "      <th>Author</th>\n",
       "      <th>Title</th>\n",
       "      <th>URL</th>\n",
       "      <th>Text</th>\n",
       "    </tr>\n",
       "  </thead>\n",
       "  <tbody>\n",
       "    <tr>\n",
       "      <th>3</th>\n",
       "      <td>2020-09-15</td>\n",
       "      <td>13:08:32Z</td>\n",
       "      <td>Healthline</td>\n",
       "      <td>Lauren Panoff, MPH, RD</td>\n",
       "      <td>Is Beeswax Vegan?</td>\n",
       "      <td>https://www.healthline.com/nutrition/is-beeswa...</td>\n",
       "      <td>A vegan diet is defined as a way of eating tha...</td>\n",
       "    </tr>\n",
       "    <tr>\n",
       "      <th>4</th>\n",
       "      <td>2020-09-04</td>\n",
       "      <td>07:00:00Z</td>\n",
       "      <td>Green Matters</td>\n",
       "      <td>sophie</td>\n",
       "      <td>Opinion: Miley Cyrus Says She's No Longer Vega...</td>\n",
       "      <td>https://www.greenmatters.com/p/miley-cyrus-no-...</td>\n",
       "      <td>Miley Cyrus just announced that she is no long...</td>\n",
       "    </tr>\n",
       "    <tr>\n",
       "      <th>17</th>\n",
       "      <td>2020-09-09</td>\n",
       "      <td>11:05:25Z</td>\n",
       "      <td>Plant Based News</td>\n",
       "      <td>Louisa Kendal at Viva!</td>\n",
       "      <td>As Stars Ditch Veganism - Does Celebrity Cultu...</td>\n",
       "      <td>https://www.plantbasednews.org/opinion/celebri...</td>\n",
       "      <td>Does celebrity culture hurt the vegan movement...</td>\n",
       "    </tr>\n",
       "    <tr>\n",
       "      <th>20</th>\n",
       "      <td>2020-08-26</td>\n",
       "      <td>07:00:00Z</td>\n",
       "      <td>Civil Eats</td>\n",
       "      <td>NaN</td>\n",
       "      <td>Is the Vegan Movement Ready to Reckon with Rac...</td>\n",
       "      <td>https://civileats.com/2020/08/26/is-the-vegan-...</td>\n",
       "      <td>NaN</td>\n",
       "    </tr>\n",
       "    <tr>\n",
       "      <th>36</th>\n",
       "      <td>2020-09-15</td>\n",
       "      <td>13:08:32Z</td>\n",
       "      <td>Healthline</td>\n",
       "      <td>Alina Petre, MS, RD (NL)</td>\n",
       "      <td>Incomplete Protein: Is It a Concern?</td>\n",
       "      <td>https://www.healthline.com/nutrition/incomplet...</td>\n",
       "      <td>Plant-based sources of protein are often deeme...</td>\n",
       "    </tr>\n",
       "    <tr>\n",
       "      <th>42</th>\n",
       "      <td>2020-09-14</td>\n",
       "      <td>14:00:00Z</td>\n",
       "      <td>The Canberra Times</td>\n",
       "      <td>Karen Hardy</td>\n",
       "      <td>Do vegans dream of greasy junk food? If you do...</td>\n",
       "      <td>https://www.canberratimes.com.au/story/6920100...</td>\n",
       "      <td>This is the anti-vegan cookbook for vegans. Al...</td>\n",
       "    </tr>\n",
       "    <tr>\n",
       "      <th>44</th>\n",
       "      <td>2020-07-16</td>\n",
       "      <td>12:00:00Z</td>\n",
       "      <td>The Washington Post</td>\n",
       "      <td>By Carrie Dennett</td>\n",
       "      <td>Veganism and eating disorders: Is there a link?</td>\n",
       "      <td>https://www.washingtonpost.com/lifestyle/welln...</td>\n",
       "      <td>Vegan diets — which exclude all foods of anima...</td>\n",
       "    </tr>\n",
       "    <tr>\n",
       "      <th>47</th>\n",
       "      <td>2020-05-07</td>\n",
       "      <td>07:00:00Z</td>\n",
       "      <td>Healthline</td>\n",
       "      <td>Alina Petre, MS, RD (NL)</td>\n",
       "      <td>Do Vegans Live Longer Than Non-Vegans?</td>\n",
       "      <td>https://www.healthline.com/nutrition/do-vegans...</td>\n",
       "      <td>The Western diet and lifestyle are often viewe...</td>\n",
       "    </tr>\n",
       "  </tbody>\n",
       "</table>\n",
       "</div>"
      ],
      "text/plain": [
       "   Publication Date       Time            Publisher                    Author  \\\n",
       "3        2020-09-15  13:08:32Z           Healthline    Lauren Panoff, MPH, RD   \n",
       "4        2020-09-04  07:00:00Z        Green Matters                    sophie   \n",
       "17       2020-09-09  11:05:25Z     Plant Based News    Louisa Kendal at Viva!   \n",
       "20       2020-08-26  07:00:00Z           Civil Eats                       NaN   \n",
       "36       2020-09-15  13:08:32Z           Healthline  Alina Petre, MS, RD (NL)   \n",
       "42       2020-09-14  14:00:00Z   The Canberra Times               Karen Hardy   \n",
       "44       2020-07-16  12:00:00Z  The Washington Post         By Carrie Dennett   \n",
       "47       2020-05-07  07:00:00Z           Healthline  Alina Petre, MS, RD (NL)   \n",
       "\n",
       "                                                Title  \\\n",
       "3                                   Is Beeswax Vegan?   \n",
       "4   Opinion: Miley Cyrus Says She's No Longer Vega...   \n",
       "17  As Stars Ditch Veganism - Does Celebrity Cultu...   \n",
       "20  Is the Vegan Movement Ready to Reckon with Rac...   \n",
       "36               Incomplete Protein: Is It a Concern?   \n",
       "42  Do vegans dream of greasy junk food? If you do...   \n",
       "44    Veganism and eating disorders: Is there a link?   \n",
       "47             Do Vegans Live Longer Than Non-Vegans?   \n",
       "\n",
       "                                                  URL  \\\n",
       "3   https://www.healthline.com/nutrition/is-beeswa...   \n",
       "4   https://www.greenmatters.com/p/miley-cyrus-no-...   \n",
       "17  https://www.plantbasednews.org/opinion/celebri...   \n",
       "20  https://civileats.com/2020/08/26/is-the-vegan-...   \n",
       "36  https://www.healthline.com/nutrition/incomplet...   \n",
       "42  https://www.canberratimes.com.au/story/6920100...   \n",
       "44  https://www.washingtonpost.com/lifestyle/welln...   \n",
       "47  https://www.healthline.com/nutrition/do-vegans...   \n",
       "\n",
       "                                                 Text  \n",
       "3   A vegan diet is defined as a way of eating tha...  \n",
       "4   Miley Cyrus just announced that she is no long...  \n",
       "17  Does celebrity culture hurt the vegan movement...  \n",
       "20                                                NaN  \n",
       "36  Plant-based sources of protein are often deeme...  \n",
       "42  This is the anti-vegan cookbook for vegans. Al...  \n",
       "44  Vegan diets — which exclude all foods of anima...  \n",
       "47  The Western diet and lifestyle are often viewe...  "
      ]
     },
     "execution_count": 15,
     "metadata": {},
     "output_type": "execute_result"
    }
   ],
   "source": [
    "# Search for substrings\n",
    "is_question = news_content[news_content[\"Title\"].str.contains(\"?\", regex = False)]\n",
    "is_question"
   ]
  },
  {
   "cell_type": "code",
   "execution_count": 16,
   "metadata": {},
   "outputs": [
    {
     "data": {
      "text/html": [
       "<div>\n",
       "<style scoped>\n",
       "    .dataframe tbody tr th:only-of-type {\n",
       "        vertical-align: middle;\n",
       "    }\n",
       "\n",
       "    .dataframe tbody tr th {\n",
       "        vertical-align: top;\n",
       "    }\n",
       "\n",
       "    .dataframe thead th {\n",
       "        text-align: right;\n",
       "    }\n",
       "</style>\n",
       "<table border=\"1\" class=\"dataframe\">\n",
       "  <thead>\n",
       "    <tr style=\"text-align: right;\">\n",
       "      <th></th>\n",
       "      <th>created_at</th>\n",
       "      <th>id</th>\n",
       "      <th>id_str</th>\n",
       "      <th>full_text</th>\n",
       "      <th>truncated</th>\n",
       "      <th>display_text_range</th>\n",
       "      <th>entities</th>\n",
       "      <th>metadata</th>\n",
       "      <th>source</th>\n",
       "      <th>in_reply_to_status_id</th>\n",
       "      <th>...</th>\n",
       "      <th>retweet_count</th>\n",
       "      <th>favorite_count</th>\n",
       "      <th>favorited</th>\n",
       "      <th>retweeted</th>\n",
       "      <th>lang</th>\n",
       "      <th>possibly_sensitive</th>\n",
       "      <th>extended_entities</th>\n",
       "      <th>quoted_status_id</th>\n",
       "      <th>quoted_status_id_str</th>\n",
       "      <th>quoted_status</th>\n",
       "    </tr>\n",
       "  </thead>\n",
       "  <tbody>\n",
       "    <tr>\n",
       "      <th>6</th>\n",
       "      <td>2020-09-08 11:56:40+00:00</td>\n",
       "      <td>1303301222884139009</td>\n",
       "      <td>1303301222884139008</td>\n",
       "      <td>We know that children's skin can be incredibly...</td>\n",
       "      <td>False</td>\n",
       "      <td>[0, 249]</td>\n",
       "      <td>{'hashtags': [{'text': 'BackToSchoolSafely', '...</td>\n",
       "      <td>{'iso_language_code': 'en', 'result_type': 're...</td>\n",
       "      <td>&lt;a href=\"https://mobile.twitter.com\" rel=\"nofo...</td>\n",
       "      <td>NaN</td>\n",
       "      <td>...</td>\n",
       "      <td>0</td>\n",
       "      <td>4</td>\n",
       "      <td>False</td>\n",
       "      <td>False</td>\n",
       "      <td>en</td>\n",
       "      <td>0.0</td>\n",
       "      <td>{'media': [{'id': 1303300172152217601, 'id_str...</td>\n",
       "      <td>NaN</td>\n",
       "      <td>NaN</td>\n",
       "      <td>NaN</td>\n",
       "    </tr>\n",
       "    <tr>\n",
       "      <th>9</th>\n",
       "      <td>2020-09-07 18:13:16+00:00</td>\n",
       "      <td>1303033612145750019</td>\n",
       "      <td>1303033612145750016</td>\n",
       "      <td>When children are not brought up in violence b...</td>\n",
       "      <td>False</td>\n",
       "      <td>[0, 217]</td>\n",
       "      <td>{'hashtags': [{'text': 'Vegan', 'indices': [19...</td>\n",
       "      <td>{'iso_language_code': 'en', 'result_type': 're...</td>\n",
       "      <td>&lt;a href=\"http://twitter.com/download/android\" ...</td>\n",
       "      <td>NaN</td>\n",
       "      <td>...</td>\n",
       "      <td>190</td>\n",
       "      <td>404</td>\n",
       "      <td>False</td>\n",
       "      <td>False</td>\n",
       "      <td>en</td>\n",
       "      <td>0.0</td>\n",
       "      <td>{'media': [{'id': 1303033578226360325, 'id_str...</td>\n",
       "      <td>NaN</td>\n",
       "      <td>NaN</td>\n",
       "      <td>NaN</td>\n",
       "    </tr>\n",
       "    <tr>\n",
       "      <th>14</th>\n",
       "      <td>2020-09-07 12:55:59+00:00</td>\n",
       "      <td>1302953764471660548</td>\n",
       "      <td>1302953764471660544</td>\n",
       "      <td>New book by my favorite author @chocochilinet ...</td>\n",
       "      <td>False</td>\n",
       "      <td>[0, 278]</td>\n",
       "      <td>{'hashtags': [{'text': 'vegan', 'indices': [26...</td>\n",
       "      <td>{'iso_language_code': 'en', 'result_type': 're...</td>\n",
       "      <td>&lt;a href=\"http://twitter.com/download/android\" ...</td>\n",
       "      <td>NaN</td>\n",
       "      <td>...</td>\n",
       "      <td>7</td>\n",
       "      <td>20</td>\n",
       "      <td>False</td>\n",
       "      <td>False</td>\n",
       "      <td>en</td>\n",
       "      <td>0.0</td>\n",
       "      <td>{'media': [{'id': 1302953753809743872, 'id_str...</td>\n",
       "      <td>NaN</td>\n",
       "      <td>NaN</td>\n",
       "      <td>NaN</td>\n",
       "    </tr>\n",
       "    <tr>\n",
       "      <th>18</th>\n",
       "      <td>2020-09-06 14:59:27+00:00</td>\n",
       "      <td>1302622446177136640</td>\n",
       "      <td>1302622446177136640</td>\n",
       "      <td>Discover The YourZooki Liposomal Vitamin C Wit...</td>\n",
       "      <td>False</td>\n",
       "      <td>[0, 257]</td>\n",
       "      <td>{'hashtags': [{'text': 'VitaminC', 'indices': ...</td>\n",
       "      <td>{'iso_language_code': 'en', 'result_type': 're...</td>\n",
       "      <td>&lt;a href=\"http://twitter.com/download/android\" ...</td>\n",
       "      <td>NaN</td>\n",
       "      <td>...</td>\n",
       "      <td>44</td>\n",
       "      <td>5</td>\n",
       "      <td>False</td>\n",
       "      <td>False</td>\n",
       "      <td>en</td>\n",
       "      <td>0.0</td>\n",
       "      <td>{'media': [{'id': 1302622443853541384, 'id_str...</td>\n",
       "      <td>NaN</td>\n",
       "      <td>NaN</td>\n",
       "      <td>NaN</td>\n",
       "    </tr>\n",
       "  </tbody>\n",
       "</table>\n",
       "<p>4 rows × 30 columns</p>\n",
       "</div>"
      ],
      "text/plain": [
       "                  created_at                   id               id_str  \\\n",
       "6  2020-09-08 11:56:40+00:00  1303301222884139009  1303301222884139008   \n",
       "9  2020-09-07 18:13:16+00:00  1303033612145750019  1303033612145750016   \n",
       "14 2020-09-07 12:55:59+00:00  1302953764471660548  1302953764471660544   \n",
       "18 2020-09-06 14:59:27+00:00  1302622446177136640  1302622446177136640   \n",
       "\n",
       "                                            full_text  truncated  \\\n",
       "6   We know that children's skin can be incredibly...      False   \n",
       "9   When children are not brought up in violence b...      False   \n",
       "14  New book by my favorite author @chocochilinet ...      False   \n",
       "18  Discover The YourZooki Liposomal Vitamin C Wit...      False   \n",
       "\n",
       "   display_text_range                                           entities  \\\n",
       "6            [0, 249]  {'hashtags': [{'text': 'BackToSchoolSafely', '...   \n",
       "9            [0, 217]  {'hashtags': [{'text': 'Vegan', 'indices': [19...   \n",
       "14           [0, 278]  {'hashtags': [{'text': 'vegan', 'indices': [26...   \n",
       "18           [0, 257]  {'hashtags': [{'text': 'VitaminC', 'indices': ...   \n",
       "\n",
       "                                             metadata  \\\n",
       "6   {'iso_language_code': 'en', 'result_type': 're...   \n",
       "9   {'iso_language_code': 'en', 'result_type': 're...   \n",
       "14  {'iso_language_code': 'en', 'result_type': 're...   \n",
       "18  {'iso_language_code': 'en', 'result_type': 're...   \n",
       "\n",
       "                                               source  in_reply_to_status_id  \\\n",
       "6   <a href=\"https://mobile.twitter.com\" rel=\"nofo...                    NaN   \n",
       "9   <a href=\"http://twitter.com/download/android\" ...                    NaN   \n",
       "14  <a href=\"http://twitter.com/download/android\" ...                    NaN   \n",
       "18  <a href=\"http://twitter.com/download/android\" ...                    NaN   \n",
       "\n",
       "    ...  retweet_count  favorite_count  favorited retweeted lang  \\\n",
       "6   ...              0               4      False     False   en   \n",
       "9   ...            190             404      False     False   en   \n",
       "14  ...              7              20      False     False   en   \n",
       "18  ...             44               5      False     False   en   \n",
       "\n",
       "    possibly_sensitive                                  extended_entities  \\\n",
       "6                  0.0  {'media': [{'id': 1303300172152217601, 'id_str...   \n",
       "9                  0.0  {'media': [{'id': 1303033578226360325, 'id_str...   \n",
       "14                 0.0  {'media': [{'id': 1302953753809743872, 'id_str...   \n",
       "18                 0.0  {'media': [{'id': 1302622443853541384, 'id_str...   \n",
       "\n",
       "    quoted_status_id  quoted_status_id_str  quoted_status  \n",
       "6                NaN                   NaN            NaN  \n",
       "9                NaN                   NaN            NaN  \n",
       "14               NaN                   NaN            NaN  \n",
       "18               NaN                   NaN            NaN  \n",
       "\n",
       "[4 rows x 30 columns]"
      ]
     },
     "execution_count": 16,
     "metadata": {},
     "output_type": "execute_result"
    }
   ],
   "source": [
    "# Evaluate numbers\n",
    "popular = twitter_content[twitter_content[\"favorite_count\"] > 3]\n",
    "popular"
   ]
  },
  {
   "cell_type": "markdown",
   "metadata": {},
   "source": [
    "## 5. Basic statistics"
   ]
  },
  {
   "cell_type": "markdown",
   "metadata": {},
   "source": [
    "The function *describe* provides basic statistics about the data frame. \n",
    "\n",
    "**Try to interpret the output. What do top and freq refer to? Are the categories meaningful for text data? Can you trust that there are no duplicates if count and unique are equal?**"
   ]
  },
  {
   "cell_type": "code",
   "execution_count": 17,
   "metadata": {},
   "outputs": [
    {
     "data": {
      "text/html": [
       "<div>\n",
       "<style scoped>\n",
       "    .dataframe tbody tr th:only-of-type {\n",
       "        vertical-align: middle;\n",
       "    }\n",
       "\n",
       "    .dataframe tbody tr th {\n",
       "        vertical-align: top;\n",
       "    }\n",
       "\n",
       "    .dataframe thead th {\n",
       "        text-align: right;\n",
       "    }\n",
       "</style>\n",
       "<table border=\"1\" class=\"dataframe\">\n",
       "  <thead>\n",
       "    <tr style=\"text-align: right;\">\n",
       "      <th></th>\n",
       "      <th>Publication Date</th>\n",
       "      <th>Time</th>\n",
       "      <th>Publisher</th>\n",
       "      <th>Author</th>\n",
       "      <th>Title</th>\n",
       "      <th>URL</th>\n",
       "      <th>Text</th>\n",
       "    </tr>\n",
       "  </thead>\n",
       "  <tbody>\n",
       "    <tr>\n",
       "      <th>count</th>\n",
       "      <td>48</td>\n",
       "      <td>48</td>\n",
       "      <td>48</td>\n",
       "      <td>30</td>\n",
       "      <td>48</td>\n",
       "      <td>48</td>\n",
       "      <td>34</td>\n",
       "    </tr>\n",
       "    <tr>\n",
       "      <th>unique</th>\n",
       "      <td>20</td>\n",
       "      <td>34</td>\n",
       "      <td>36</td>\n",
       "      <td>24</td>\n",
       "      <td>48</td>\n",
       "      <td>48</td>\n",
       "      <td>34</td>\n",
       "    </tr>\n",
       "    <tr>\n",
       "      <th>top</th>\n",
       "      <td>2020-09-15</td>\n",
       "      <td>07:00:00Z</td>\n",
       "      <td>Plant Based News</td>\n",
       "      <td>Maria Chiorando</td>\n",
       "      <td>Veganism: From fad to lifestyle</td>\n",
       "      <td>https://www.newsindiatimes.com/veganism-from-f...</td>\n",
       "      <td>Thirty years ago, a few Indian-Americans got t...</td>\n",
       "    </tr>\n",
       "    <tr>\n",
       "      <th>freq</th>\n",
       "      <td>8</td>\n",
       "      <td>14</td>\n",
       "      <td>5</td>\n",
       "      <td>4</td>\n",
       "      <td>1</td>\n",
       "      <td>1</td>\n",
       "      <td>1</td>\n",
       "    </tr>\n",
       "  </tbody>\n",
       "</table>\n",
       "</div>"
      ],
      "text/plain": [
       "       Publication Date       Time         Publisher           Author  \\\n",
       "count                48         48                48               30   \n",
       "unique               20         34                36               24   \n",
       "top          2020-09-15  07:00:00Z  Plant Based News  Maria Chiorando   \n",
       "freq                  8         14                 5                4   \n",
       "\n",
       "                                  Title  \\\n",
       "count                                48   \n",
       "unique                               48   \n",
       "top     Veganism: From fad to lifestyle   \n",
       "freq                                  1   \n",
       "\n",
       "                                                      URL  \\\n",
       "count                                                  48   \n",
       "unique                                                 48   \n",
       "top     https://www.newsindiatimes.com/veganism-from-f...   \n",
       "freq                                                    1   \n",
       "\n",
       "                                                     Text  \n",
       "count                                                  34  \n",
       "unique                                                 34  \n",
       "top     Thirty years ago, a few Indian-Americans got t...  \n",
       "freq                                                    1  "
      ]
     },
     "execution_count": 17,
     "metadata": {},
     "output_type": "execute_result"
    }
   ],
   "source": [
    "news_content.describe()"
   ]
  },
  {
   "cell_type": "code",
   "execution_count": 18,
   "metadata": {},
   "outputs": [
    {
     "data": {
      "text/html": [
       "<div>\n",
       "<style scoped>\n",
       "    .dataframe tbody tr th:only-of-type {\n",
       "        vertical-align: middle;\n",
       "    }\n",
       "\n",
       "    .dataframe tbody tr th {\n",
       "        vertical-align: top;\n",
       "    }\n",
       "\n",
       "    .dataframe thead th {\n",
       "        text-align: right;\n",
       "    }\n",
       "</style>\n",
       "<table border=\"1\" class=\"dataframe\">\n",
       "  <thead>\n",
       "    <tr style=\"text-align: right;\">\n",
       "      <th></th>\n",
       "      <th>id</th>\n",
       "      <th>id_str</th>\n",
       "      <th>in_reply_to_status_id</th>\n",
       "      <th>in_reply_to_status_id_str</th>\n",
       "      <th>in_reply_to_user_id</th>\n",
       "      <th>in_reply_to_user_id_str</th>\n",
       "      <th>geo</th>\n",
       "      <th>coordinates</th>\n",
       "      <th>place</th>\n",
       "      <th>contributors</th>\n",
       "      <th>retweet_count</th>\n",
       "      <th>favorite_count</th>\n",
       "      <th>possibly_sensitive</th>\n",
       "      <th>quoted_status_id</th>\n",
       "      <th>quoted_status_id_str</th>\n",
       "    </tr>\n",
       "  </thead>\n",
       "  <tbody>\n",
       "    <tr>\n",
       "      <th>count</th>\n",
       "      <td>2.000000e+01</td>\n",
       "      <td>2.000000e+01</td>\n",
       "      <td>1.000000e+00</td>\n",
       "      <td>1.000000e+00</td>\n",
       "      <td>1.000000e+00</td>\n",
       "      <td>1.000000e+00</td>\n",
       "      <td>0.0</td>\n",
       "      <td>0.0</td>\n",
       "      <td>0.0</td>\n",
       "      <td>0.0</td>\n",
       "      <td>20.000000</td>\n",
       "      <td>20.000000</td>\n",
       "      <td>19.0</td>\n",
       "      <td>1.000000e+00</td>\n",
       "      <td>1.000000e+00</td>\n",
       "    </tr>\n",
       "    <tr>\n",
       "      <th>mean</th>\n",
       "      <td>1.303103e+18</td>\n",
       "      <td>1.303103e+18</td>\n",
       "      <td>1.303587e+18</td>\n",
       "      <td>1.303587e+18</td>\n",
       "      <td>1.238791e+18</td>\n",
       "      <td>1.238791e+18</td>\n",
       "      <td>NaN</td>\n",
       "      <td>NaN</td>\n",
       "      <td>NaN</td>\n",
       "      <td>NaN</td>\n",
       "      <td>12.500000</td>\n",
       "      <td>22.550000</td>\n",
       "      <td>0.0</td>\n",
       "      <td>1.302898e+18</td>\n",
       "      <td>1.302898e+18</td>\n",
       "    </tr>\n",
       "    <tr>\n",
       "      <th>std</th>\n",
       "      <td>3.020071e+14</td>\n",
       "      <td>3.020071e+14</td>\n",
       "      <td>NaN</td>\n",
       "      <td>NaN</td>\n",
       "      <td>NaN</td>\n",
       "      <td>NaN</td>\n",
       "      <td>NaN</td>\n",
       "      <td>NaN</td>\n",
       "      <td>NaN</td>\n",
       "      <td>NaN</td>\n",
       "      <td>42.903196</td>\n",
       "      <td>89.889684</td>\n",
       "      <td>0.0</td>\n",
       "      <td>NaN</td>\n",
       "      <td>NaN</td>\n",
       "    </tr>\n",
       "    <tr>\n",
       "      <th>min</th>\n",
       "      <td>1.302486e+18</td>\n",
       "      <td>1.302486e+18</td>\n",
       "      <td>1.303587e+18</td>\n",
       "      <td>1.303587e+18</td>\n",
       "      <td>1.238791e+18</td>\n",
       "      <td>1.238791e+18</td>\n",
       "      <td>NaN</td>\n",
       "      <td>NaN</td>\n",
       "      <td>NaN</td>\n",
       "      <td>NaN</td>\n",
       "      <td>0.000000</td>\n",
       "      <td>0.000000</td>\n",
       "      <td>0.0</td>\n",
       "      <td>1.302898e+18</td>\n",
       "      <td>1.302898e+18</td>\n",
       "    </tr>\n",
       "    <tr>\n",
       "      <th>25%</th>\n",
       "      <td>1.302945e+18</td>\n",
       "      <td>1.302945e+18</td>\n",
       "      <td>1.303587e+18</td>\n",
       "      <td>1.303587e+18</td>\n",
       "      <td>1.238791e+18</td>\n",
       "      <td>1.238791e+18</td>\n",
       "      <td>NaN</td>\n",
       "      <td>NaN</td>\n",
       "      <td>NaN</td>\n",
       "      <td>NaN</td>\n",
       "      <td>0.000000</td>\n",
       "      <td>0.000000</td>\n",
       "      <td>0.0</td>\n",
       "      <td>1.302898e+18</td>\n",
       "      <td>1.302898e+18</td>\n",
       "    </tr>\n",
       "    <tr>\n",
       "      <th>50%</th>\n",
       "      <td>1.303032e+18</td>\n",
       "      <td>1.303032e+18</td>\n",
       "      <td>1.303587e+18</td>\n",
       "      <td>1.303587e+18</td>\n",
       "      <td>1.238791e+18</td>\n",
       "      <td>1.238791e+18</td>\n",
       "      <td>NaN</td>\n",
       "      <td>NaN</td>\n",
       "      <td>NaN</td>\n",
       "      <td>NaN</td>\n",
       "      <td>0.500000</td>\n",
       "      <td>2.000000</td>\n",
       "      <td>0.0</td>\n",
       "      <td>1.302898e+18</td>\n",
       "      <td>1.302898e+18</td>\n",
       "    </tr>\n",
       "    <tr>\n",
       "      <th>75%</th>\n",
       "      <td>1.303337e+18</td>\n",
       "      <td>1.303337e+18</td>\n",
       "      <td>1.303587e+18</td>\n",
       "      <td>1.303587e+18</td>\n",
       "      <td>1.238791e+18</td>\n",
       "      <td>1.238791e+18</td>\n",
       "      <td>NaN</td>\n",
       "      <td>NaN</td>\n",
       "      <td>NaN</td>\n",
       "      <td>NaN</td>\n",
       "      <td>1.250000</td>\n",
       "      <td>2.250000</td>\n",
       "      <td>0.0</td>\n",
       "      <td>1.302898e+18</td>\n",
       "      <td>1.302898e+18</td>\n",
       "    </tr>\n",
       "    <tr>\n",
       "      <th>max</th>\n",
       "      <td>1.303589e+18</td>\n",
       "      <td>1.303589e+18</td>\n",
       "      <td>1.303587e+18</td>\n",
       "      <td>1.303587e+18</td>\n",
       "      <td>1.238791e+18</td>\n",
       "      <td>1.238791e+18</td>\n",
       "      <td>NaN</td>\n",
       "      <td>NaN</td>\n",
       "      <td>NaN</td>\n",
       "      <td>NaN</td>\n",
       "      <td>190.000000</td>\n",
       "      <td>404.000000</td>\n",
       "      <td>0.0</td>\n",
       "      <td>1.302898e+18</td>\n",
       "      <td>1.302898e+18</td>\n",
       "    </tr>\n",
       "  </tbody>\n",
       "</table>\n",
       "</div>"
      ],
      "text/plain": [
       "                 id        id_str  in_reply_to_status_id  \\\n",
       "count  2.000000e+01  2.000000e+01           1.000000e+00   \n",
       "mean   1.303103e+18  1.303103e+18           1.303587e+18   \n",
       "std    3.020071e+14  3.020071e+14                    NaN   \n",
       "min    1.302486e+18  1.302486e+18           1.303587e+18   \n",
       "25%    1.302945e+18  1.302945e+18           1.303587e+18   \n",
       "50%    1.303032e+18  1.303032e+18           1.303587e+18   \n",
       "75%    1.303337e+18  1.303337e+18           1.303587e+18   \n",
       "max    1.303589e+18  1.303589e+18           1.303587e+18   \n",
       "\n",
       "       in_reply_to_status_id_str  in_reply_to_user_id  \\\n",
       "count               1.000000e+00         1.000000e+00   \n",
       "mean                1.303587e+18         1.238791e+18   \n",
       "std                          NaN                  NaN   \n",
       "min                 1.303587e+18         1.238791e+18   \n",
       "25%                 1.303587e+18         1.238791e+18   \n",
       "50%                 1.303587e+18         1.238791e+18   \n",
       "75%                 1.303587e+18         1.238791e+18   \n",
       "max                 1.303587e+18         1.238791e+18   \n",
       "\n",
       "       in_reply_to_user_id_str  geo  coordinates  place  contributors  \\\n",
       "count             1.000000e+00  0.0          0.0    0.0           0.0   \n",
       "mean              1.238791e+18  NaN          NaN    NaN           NaN   \n",
       "std                        NaN  NaN          NaN    NaN           NaN   \n",
       "min               1.238791e+18  NaN          NaN    NaN           NaN   \n",
       "25%               1.238791e+18  NaN          NaN    NaN           NaN   \n",
       "50%               1.238791e+18  NaN          NaN    NaN           NaN   \n",
       "75%               1.238791e+18  NaN          NaN    NaN           NaN   \n",
       "max               1.238791e+18  NaN          NaN    NaN           NaN   \n",
       "\n",
       "       retweet_count  favorite_count  possibly_sensitive  quoted_status_id  \\\n",
       "count      20.000000       20.000000                19.0      1.000000e+00   \n",
       "mean       12.500000       22.550000                 0.0      1.302898e+18   \n",
       "std        42.903196       89.889684                 0.0               NaN   \n",
       "min         0.000000        0.000000                 0.0      1.302898e+18   \n",
       "25%         0.000000        0.000000                 0.0      1.302898e+18   \n",
       "50%         0.500000        2.000000                 0.0      1.302898e+18   \n",
       "75%         1.250000        2.250000                 0.0      1.302898e+18   \n",
       "max       190.000000      404.000000                 0.0      1.302898e+18   \n",
       "\n",
       "       quoted_status_id_str  \n",
       "count          1.000000e+00  \n",
       "mean           1.302898e+18  \n",
       "std                     NaN  \n",
       "min            1.302898e+18  \n",
       "25%            1.302898e+18  \n",
       "50%            1.302898e+18  \n",
       "75%            1.302898e+18  \n",
       "max            1.302898e+18  "
      ]
     },
     "execution_count": 18,
     "metadata": {},
     "output_type": "execute_result"
    }
   ],
   "source": [
    "twitter_content.describe()"
   ]
  },
  {
   "cell_type": "markdown",
   "metadata": {},
   "source": [
    "## 6. Own statistics"
   ]
  },
  {
   "cell_type": "markdown",
   "metadata": {},
   "source": [
    "For language data, you might want to calculate your own statistics which are more meaningful. The code below iterates through the titles and keeps track of the number of characters. \n",
    "\n",
    "**Do you have an idea how to calculate the length of the title in words?**\n"
   ]
  },
  {
   "cell_type": "code",
   "execution_count": 22,
   "metadata": {},
   "outputs": [
    {
     "name": "stdout",
     "output_type": "stream",
     "text": [
      "Mean length of titles: \n",
      "60.0625\n"
     ]
    }
   ],
   "source": [
    "lengths = []\n",
    "\n",
    "# Only iterate through the titles\n",
    "for title in news_content[\"Title\"]:\n",
    "    lengths.append(len(title))\n",
    "    \n",
    "mean = sum(lengths)/len(lengths)\n",
    "print(\"Mean length of titles: \") \n",
    "print(mean)\n"
   ]
  },
  {
   "cell_type": "markdown",
   "metadata": {},
   "source": [
    "If you calculate the mean, you should also have a look at the median, the standard deviation, the variance, and the min and max values. Have a look at the [*statistics* module](https://docs.python.org/3/library/statistics.html). \n",
    "**Do you have an idea how to calculate the length of the title in words?**\n"
   ]
  },
  {
   "cell_type": "code",
   "execution_count": 23,
   "metadata": {},
   "outputs": [
    {
     "name": "stdout",
     "output_type": "stream",
     "text": [
      "mean, std, meadian, variance, min, max\n",
      "['60.06', '21.08', '60.50', '444.23', '17.00', '115.00']\n"
     ]
    }
   ],
   "source": [
    "import statistics\n",
    "\n",
    "mean = statistics.mean(lengths)\n",
    "std = statistics.stdev(lengths)\n",
    "median = statistics.median(lengths)\n",
    "variance = statistics.variance(lengths)\n",
    "min_length = min(lengths)\n",
    "max_length = max(lengths)\n",
    "\n",
    "two_decimals = [\"%.2f\" % v for v in [mean, std, median, variance, min_length, max_length]]\n",
    "print(\"mean, std, meadian, variance, min, max\")\n",
    "print(two_decimals) "
   ]
  },
  {
   "cell_type": "markdown",
   "metadata": {},
   "source": [
    "## 7. Plot distributions"
   ]
  },
  {
   "cell_type": "markdown",
   "metadata": {},
   "source": [
    "It can be more informative to look at the distribution of a variable. This can be done using the module *matplotlib\".\n",
    "**What kind of information can you derive from the plot? How can you identify outliers? **\n"
   ]
  },
  {
   "cell_type": "code",
   "execution_count": 25,
   "metadata": {},
   "outputs": [
    {
     "name": "stdout",
     "output_type": "stream",
     "text": [
      "[31, 75, 47, 17, 115, 60, 61, 18, 49, 69, 46, 72, 42, 53, 49, 52, 53, 75, 84, 68, 50, 79, 75, 33, 77, 65, 66, 73, 113, 87, 47, 38, 62, 75, 64, 26, 36, 47, 59, 56, 75, 86, 71, 44, 47, 84, 74, 38]\n"
     ]
    },
    {
     "data": {
      "text/plain": [
       "[<matplotlib.lines.Line2D at 0x7f9869df8c10>]"
      ]
     },
     "execution_count": 25,
     "metadata": {},
     "output_type": "execute_result"
    },
    {
     "data": {
      "image/png": "[encoded data removed]",
      "text/plain": [
       "<Figure size 432x288 with 1 Axes>"
      ]
     },
     "metadata": {
      "needs_background": "light"
     },
     "output_type": "display_data"
    }
   ],
   "source": [
    "%matplotlib inline\n",
    "import matplotlib.pyplot as plt\n",
    "\n",
    "print(lengths)\n",
    "# We simply enumerate the titles, 0 refers to the first title in our dataframe\n",
    "title_ids = [i for i in range(len(news_content[\"Title\"]))]\n",
    "plt.plot(title_ids,lengths,'o')"
   ]
  },
  {
   "cell_type": "markdown",
   "metadata": {},
   "source": [
    "## 8. Dealing with missing data "
   ]
  },
  {
   "cell_type": "markdown",
   "metadata": {},
   "source": [
    "You can see that the value NaN occurs quite often. This stands for *Not A Number* and is interpreted as a float. Pandas automatically interprets empty cells as NaN when reading in data. If you do not notice that, it can lead to annoying errors or wrong interpretations. If one value in a column is NaN, the mean and standard deviation will also be NaN. \n",
    "One way to deal with the NaN problem is to simply replace them with a default value. In the following example, we replace all NaN values with 0. "
   ]
  },
  {
   "cell_type": "code",
   "execution_count": null,
   "metadata": {},
   "outputs": [],
   "source": [
    "twitter_content_modified = twitter_content.fillna(0)\n",
    "twitter_content_modified.describe()"
   ]
  },
  {
   "cell_type": "markdown",
   "metadata": {},
   "source": [
    "The NaN problem is particularly difficult when we work with String values. Recall that we did not find information about the author for many articles. (Counters were introduced in [chapter 10](https://github.com/cltl/python-for-text-analysis/blob/master/Chapters/Chapter%2010%20-%20Dictionaries.ipynb) of the python course.)"
   ]
  },
  {
   "cell_type": "code",
   "execution_count": null,
   "metadata": {},
   "outputs": [],
   "source": [
    "from collections import Counter\n",
    "\n",
    "authors = news_content[\"Author\"]\n",
    "\n",
    "# Count how often each author occurs\n",
    "frequencies = Counter(authors)\n",
    "\n",
    "print(frequencies)"
   ]
  },
  {
   "cell_type": "markdown",
   "metadata": {},
   "source": [
    "If we now want to sort the authors by name, we get a Type Error because NaN is interpreted as a float and not a string. We decide to replace it with a default string: \"Unknown\" using the function *fillna*.\n",
    "\n",
    "**For the reproducibility of your analyses, it is very important to be transparent about the handling of missing data. More options can be found in the [pandas documentation](https://pandas.pydata.org/pandas-docs/stable/user_guide/missing_data.html).**  "
   ]
  },
  {
   "cell_type": "code",
   "execution_count": null,
   "metadata": {},
   "outputs": [],
   "source": [
    "# Sort the authors by name.\n",
    "sorted_by_name = sorted(frequencies.items(), key=lambda item: item[0])\n",
    "\n",
    "print(sorted_by_name)"
   ]
  },
  {
   "cell_type": "code",
   "execution_count": null,
   "metadata": {},
   "outputs": [],
   "source": [
    "# We replace NaN with the default string \"Unknown\"\n",
    "modified_authors = authors.fillna(\"Unknown\")\n",
    "\n",
    "# Count how often each author occurs\n",
    "frequencies = Counter(modified_authors)\n",
    "sorted_by_name = sorted(frequencies.items(), key=lambda item: item[0])\n",
    "sorted_by_frequency = sorted(frequencies.items(), key=lambda item: item[1])\n",
    "print(sorted_by_name)"
   ]
  },
  {
   "cell_type": "markdown",
   "metadata": {},
   "source": [
    "Another option is to set the parameter keep_default_na in pd.read_csv() to False. This ensures that empty strings are not interpreted as NaN. Make sure to check the [documentation](https://pandas.pydata.org/pandas-docs/stable/reference/api/pandas.read_csv.html)."
   ]
  }
 ],
 "metadata": {
  "kernelspec": {
   "display_name": "Python 3.8.13 ('LaD')",
   "language": "python",
   "name": "python3"
  },
  "language_info": {
   "codemirror_mode": {
    "name": "ipython",
    "version": 3
   },
   "file_extension": ".py",
   "mimetype": "text/x-python",
   "name": "python",
   "nbconvert_exporter": "python",
   "pygments_lexer": "ipython3",
   "version": "3.8.13"
  },
  "vscode": {
   "interpreter": {
    "hash": "e143b35b2151c3bc89ebda3b2f959c992381c54659ae3e56b021f94e69f457f4"
   }
  }
 },
 "nbformat": 4,
 "nbformat_minor": 4
}
