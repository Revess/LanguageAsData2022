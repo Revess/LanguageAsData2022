{
 "cells": [
  {
   "cell_type": "markdown",
   "id": "7afb283e",
   "metadata": {},
   "source": [
    "Copyright: Vrije Universiteit Amsterdam, Faculty of Humanities, CLTL"
   ]
  },
  {
   "cell_type": "markdown",
   "id": "0e355bcf",
   "metadata": {},
   "source": [
    "# Lab 1.3: Extracting Metadata"
   ]
  },
  {
   "cell_type": "markdown",
   "id": "31dfd0aa",
   "metadata": {},
   "source": [
    "In this notebook, we use the MediaStack to search for news: \n",
    "\n",
    "https://mediastack.com/ \n",
    "\n",
    "We learn how to extract some metadata from the API. "
   ]
  },
  {
   "cell_type": "markdown",
   "id": "81f491fe",
   "metadata": {},
   "source": [
    "Go to https://mediastack.com/signup and fill in the required information.\n",
    "<br>\n",
    "Save the API Access Key "
   ]
  },
  {
   "cell_type": "markdown",
   "id": "af33ae2e",
   "metadata": {},
   "source": [
    "## 1. Queries in different languages"
   ]
  },
  {
   "cell_type": "markdown",
   "id": "0bcfc3b2",
   "metadata": {},
   "source": [
    "In the Media Stack API, we can vary different parameters, such as the keywords and the language.\n",
    "\n",
    "The language needs to be abbreviated according to the two-letter ISO-639-1 code.\n",
    "\n",
    "Play with different queries and languages.\n",
    "\n",
    "Note: There are different ISO code classifications for languages. ISO-639-1 is the oldest one and uses two letters. More recent schemes use three letters to include more languages (living and extinct):\n",
    "\n",
    "https://www.iso.org/iso-639-language-codes.html\n",
    "https://en.wikipedia.org/wiki/List_of_ISO_639-1_codes"
   ]
  },
  {
   "cell_type": "code",
   "execution_count": 3,
   "id": "03748c79",
   "metadata": {},
   "outputs": [],
   "source": [
    "import http.client, urllib.parse, json\n",
    "from util_html import *\n",
    "\n",
    "conn = http.client.HTTPConnection('api.mediastack.com')\n",
    "\n",
    "params = urllib.parse.urlencode({\n",
    "    'access_key': , ## ADD YOUR ACCESS KEY\n",
    "    'keywords' : 'veganism',\n",
    "    'sort': 'published_desc',\n",
    "    'languages':'en'\n",
    "    })\n",
    "\n",
    "conn.request('GET', '/v1/news?{}'.format(params))\n",
    "\n",
    "res = conn.getresponse()\n",
    "data = res.read()\n",
    "\n",
    "query_content=(data.decode('utf-8'))\n",
    "query = json.loads(query_content)"
   ]
  },
  {
   "cell_type": "markdown",
   "id": "34395b3b",
   "metadata": {},
   "source": [
    "# 2. Extracting Metadata"
   ]
  },
  {
   "cell_type": "markdown",
   "id": "cef0d23d",
   "metadata": {},
   "source": [
    "Media Stack lists many articles for each query. As with the NOS-articles, we first want to extract the links. If you click on the links, you will notice that Media Stack does not write own articles, but just lists articles from other sources. In the following function, we try to extract metadata from the html. \n",
    "\n",
    "This particular strategy for metadata extraction only works for this version of Media Stack.\n",
    "If you use another engine or if their code changes, you will need to adapt the metadata extraction. \n",
    "\n",
    "**Make sure to add additional printouts to inspect the html content and understand how we find the metadata.** "
   ]
  },
  {
   "cell_type": "code",
   "execution_count": 6,
   "id": "64d6bc78",
   "metadata": {},
   "outputs": [],
   "source": [
    "def extract_metadata(article):\n",
    "    # Extract the publication date\n",
    "    published_at = article['published_at']\n",
    "    if published_at:\n",
    "        date, time = published_at.split(\"T\")        \n",
    "    else:\n",
    "        date = \"\"\n",
    "        time = \"\"\n",
    "\n",
    "    # Extract meta data\n",
    "    url = article ['url']\n",
    "    title= article['title'] \n",
    "    \n",
    "    # category associated with the given news article\n",
    "    category = article['category']\n",
    "    \n",
    "    # country code associated with given article \n",
    "    country = article ['country']\n",
    "    \n",
    "    return date, time, title, url, category, country\n",
    "    "
   ]
  },
  {
   "cell_type": "markdown",
   "id": "8bf83fe3",
   "metadata": {},
   "source": [
    "# 3 Extracting Content"
   ]
  },
  {
   "cell_type": "markdown",
   "id": "b14e3ad9",
   "metadata": {},
   "source": [
    "In util_html.py, you find two additional functions: *parse_author* and *parse_news_text*. These functions try to extract the author and the text from each article. Note, that the functions are only approximations. They might fail because we do not know the html structure of every publisher. "
   ]
  },
  {
   "cell_type": "code",
   "execution_count": 7,
   "id": "886ea6ed",
   "metadata": {},
   "outputs": [
    {
     "name": "stdout",
     "output_type": "stream",
     "text": [
      "2021-11-01 09:45:30+00:00\n",
      "https://metro.co.uk/2021/11/01/going-vegan-made-me-afraid-of-losing-connection-to-my-pakistani-heritage-15519706/\n",
      "author: Anya Ryan\n",
      "title: Going vegan made me afraid of losing connection to my Pakistani heritage\n",
      "category: general\n",
      "country: gb\n",
      "Growing up, food was a language of cultural connection for me. Having never travelled to Pakistan an\n",
      "\n",
      "2021-10-31 05:30:19+00:00\n",
      "https://www.theguardian.com/lifeandstyle/2021/oct/31/the-best-new-fragrances\n",
      "author: https://www.theguardian.com/profile/funmi-fetto\n",
      "title: The best new fragrances | Funmi Fetto\n",
      "category: entertainment\n",
      "country: gb\n",
      "We are fast approaching that time of the year when we should all be getting our proverbials in gear \n",
      "\n",
      "2021-10-30 10:11:20+00:00\n",
      "https://www.argophilia.com/news/celebrate-world-vegan-day-with-crumb-healthy-living/230219/\n",
      "author: \n",
      "title: Celebrate World Vegan Day With Crumb Healthy Living\n",
      "category: general\n",
      "country: us\n",
      "\n",
      "\n",
      "2021-10-30 02:55:38+00:00\n",
      "https://dailytimes.com.pk/835349/riteish-deshmukh-and-genelias-imagine-meats-win-big-at-peta-india-vegan-food-awards/\n",
      "author: \n",
      "title: Riteish Deshmukh and Genelia’s Imagine Meats win big at PETA India Vegan Food Awards\n",
      "category: general\n",
      "country: pk\n",
      "Bollywood star couple Riteish and Genelia Deshmukh’s plant-based ‘chicken nuggets’, ‘the Happy Bugs’\n",
      "\n",
      "2021-10-29 19:41:28+00:00\n",
      "https://northernstar.info/89302/lifestyle/5-best-cruelty-free-and-vegan-skincare-brands/\n",
      "author: Madelaine Vikse\n",
      "title: 5 best cruelty-free and vegan skincare brands\n",
      "category: general\n",
      "country: us\n",
      "An assortment of products by Vitamasques. Madelaine Vikse , Assistant Lifestyle EditorOctober 29, 20\n",
      "\n",
      "2021-10-29 15:08:00+00:00\n",
      "https://www.thestreet.com/press-releases/climate-change-improvements-from-eating-less-meat-15815792\n",
      "author: PR Newswire\n",
      "title: Climate Change Improvements From Eating Less Meat\n",
      "category: general\n",
      "country: us\n",
      " BETHESDA, Md., Oct. 29, 2021 /PRNewswire/ -- Not everyone needs to be a vegan to help combat climat\n",
      "\n",
      "2021-10-29 14:30:15+00:00\n",
      "https://www.thevisitor.co.uk/news/people/young-lancaster-university-entrepreneur-launches-broken-biscuit-box-to-mark-world-vegan-day-3437077\n",
      "author: Gayle Rouncivell\n",
      "title: Young Lancaster University entrepreneur launches 'broken biscuit box' to mark World Vegan Day\n",
      "category: general\n",
      "country: uk\n",
      "The green tech firm was set up by Lancaster University student James Eid back with the launch of the\n",
      "\n",
      "2021-10-29 12:36:23+00:00\n",
      "https://cyprus-mail.com/2021/10/29/animal-party-hosting-vegan-event-in-central-nicosia-on-sunday/\n",
      "author: https://www.facebook.com/CyprusMail\n",
      "title: Animal Party hosting vegan event in central Nicosia on Sunday\n",
      "category: general\n",
      "country: us\n",
      "The Animal Party on Friday invited consumers to question behaviours responsible for the abuse of mil\n",
      "\n",
      "2021-10-29 03:27:54+00:00\n",
      "https://thehoya.com/western-market-food-hall-brings-new-food-offerings-to-foggy-bottom-community/\n",
      "author: \n",
      "title: Western Market Food Hall Brings New Food Offerings to Foggy Bottom Community\n",
      "category: general\n",
      "country: us\n",
      "October 28, 2021 by Eli Blumenfeld Leave a Comment Four new establishments have opened in the Wester\n",
      "\n",
      "2021-10-29 02:11:41+00:00\n",
      "https://chicago.suntimes.com/2021/10/28/22751511/natures-fynd-lightfoot-world-business-chicago-back-of-the-yards-vegan-vegetarian\n",
      "author: Cheyanne M. Daniels\n",
      "title: Chicago-based vegan brand looks to ‘feed the world’ with new product\n",
      "category: general\n",
      "country: us\n",
      "Nature’s Fynd announced their partnership with grocery chain Mariano’s on Thursday, promising health\n",
      "\n"
     ]
    }
   ],
   "source": [
    "articles = query[\"data\"]\n",
    "\n",
    "max = 10\n",
    "for i, article in enumerate(articles):\n",
    "    if i < max: \n",
    "        \n",
    "        date, time, title, article_url, category, country = extract_metadata(article)\n",
    "    \n",
    "\n",
    "        article_content = url_to_html(article_url)   \n",
    "        author = parse_author(article_content)\n",
    "        content = parse_news_text(article_content)\n",
    "        \n",
    "        print(date, time)\n",
    "        print(article_url)\n",
    "        print(\"author:\", author)  \n",
    "        print(\"title:\", title) \n",
    "        print(\"category:\",category)\n",
    "        print(\"country:\",country)\n",
    "        print(content[:100])\n",
    "        print()\n",
    "    else:\n",
    "        break"
   ]
  },
  {
   "cell_type": "markdown",
   "id": "6e5e069b",
   "metadata": {},
   "source": [
    "# 4. Saving results as TSV"
   ]
  },
  {
   "cell_type": "markdown",
   "id": "e7eca59d",
   "metadata": {},
   "source": [
    "A standardized open format for storing the content of multiple variables are CSV files. CSV stands for comma-separated values. CSV files are text-based, but when they are imported to a spreadsheet program such as Excel, they are displayed as a table. Lines in the text file are interpreted as rows; commas in the text file are interpreted as separators for columns.  \n",
    "\n",
    "Most programmers prefer to use TSV files. In these files, the values are separated by tabulators (\"\\t\") instead of commas. Both variants can be easily processed, but you need to know which separator has been used. \n",
    "\n",
    "**If necessary, recap information on CSV and TSV files in [Chapter 16](https://github.com/cltl/python-for-text-analysis/blob/master/Chapters/Chapter%2016%20-%20Data%20formats%20I%20(CSV%20and%20TSV).ipynb) of the python course.** "
   ]
  },
  {
   "cell_type": "code",
   "execution_count": 8,
   "id": "f43ba042",
   "metadata": {},
   "outputs": [],
   "source": [
    "conn = http.client.HTTPConnection('api.mediastack.com')\n",
    "\n",
    "keywords = 'veganism'\n",
    "\n",
    "params = urllib.parse.urlencode({\n",
    "    'access_key': '',## YOUR ACCESS KEY\n",
    "    'keywords' : keywords,\n",
    "    'sort': 'published_desc',\n",
    "    'languages':'en'\n",
    "    })\n",
    "\n",
    "conn.request('GET', '/v1/news?{}'.format(params))\n",
    "\n",
    "res = conn.getresponse()\n",
    "data = res.read()\n",
    "\n",
    "query_content=(data.decode('utf-8'))\n",
    "query = json.loads(query_content)\n",
    "\n",
    "outfile = \"../results/mediastack_results/\" + keywords +\"_overview.tsv\"\n",
    "\n",
    "with open(outfile, \"w\",encoding=\"utf-8\") as f:\n",
    "    date, time, title, article_url, category, country = extract_metadata(article)\n",
    "\n",
    "    f.write(\"Publication Date\\tTime\\tAuthor\\tTitle\\tURL\\tText\\n\")\n",
    "    \n",
    "    for i, article in enumerate(articles):\n",
    "        \n",
    "        # Extract metadata\n",
    "        date, time, title, article_url, category, country = extract_metadata(article)\n",
    "        \n",
    "        # Extract content\n",
    "        article_content = url_to_html(article_url)\n",
    "        author = parse_author(article_content)\n",
    "        content = parse_news_text(article_content)\n",
    "        \n",
    "        # We remove the newlines from the content, so that we can easily store it in a single line. \n",
    "        # Keep in mind, that newlines can also carry meaning.\n",
    "        # For example, they separate paragraphs and this information is lost in the analysis, if we remove them. \n",
    "        content = content.replace(\"\\n\", \"\")\n",
    "        \n",
    "        # We want the fields to be separated by tabulators (\\t)\n",
    "        output = \"\\t\".join([date, time, author, title, article_url, content])\n",
    "        f.write(output +\"\\n\")\n"
   ]
  },
  {
   "cell_type": "markdown",
   "id": "e136499d",
   "metadata": {},
   "source": [
    "# 5. Inspect the results.\n",
    "\n",
    "You will notice that we do not always find a value for the author. There can be two reasons for that: \n",
    "- The author name is not provided by the publisher.\n",
    "- Our code cannot find it.\n",
    "\n",
    "Double-check on the website which explanation holds. When we are working with automatic methods, we will always be confronted with the issue of missing data. \n",
    "\n",
    "**Discuss how this can affect the methodology and interpretation of your experiments.** "
   ]
  }
 ],
 "metadata": {
  "kernelspec": {
   "display_name": "LaDKernel",
   "language": "python",
   "name": "ladkernel"
  },
  "language_info": {
   "codemirror_mode": {
    "name": "ipython",
    "version": 3
   },
   "file_extension": ".py",
   "mimetype": "text/x-python",
   "name": "python",
   "nbconvert_exporter": "python",
   "pygments_lexer": "ipython3",
   "version": "3.8.12"
  }
 },
 "nbformat": 4,
 "nbformat_minor": 5
}
